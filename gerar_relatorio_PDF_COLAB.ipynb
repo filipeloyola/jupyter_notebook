# Gera relatório em PDF a partir do Google Colab
! sudo apt update
! sudo apt-get install texlive-xetex texlive-fonts-recommended texlive-plain-generic
!jupyter nbconvert --to pdf notebook.ipynb;
