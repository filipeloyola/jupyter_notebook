{
  "nbformat": 4,
  "nbformat_minor": 0,
  "metadata": {
    "colab": {
      "name": "gerar_PDF_COLAB.ipynb",
      "provenance": []
    },
    "kernelspec": {
      "name": "python3",
      "display_name": "Python 3"
    },
    "language_info": {
      "name": "python"
    }
  },
  "cells": [
    {
      "cell_type": "code",
      "execution_count": null,
      "metadata": {
        "id": "JFnFMxafLRqh"
      },
      "outputs": [],
      "source": [
        "# Gera relatório em PDF a partir do Google Colab\n",
        "! sudo apt update\n",
        "! sudo apt-get install texlive-xetex texlive-fonts-recommended texlive-plain-generic\n",
        "!jupyter nbconvert --to pdf notebook.ipynb;"
      ]
    }
  ]
}